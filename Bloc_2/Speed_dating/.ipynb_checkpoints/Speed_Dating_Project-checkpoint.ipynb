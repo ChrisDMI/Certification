{
 "cells": [
  {
   "cell_type": "code",
   "execution_count": 19,
   "metadata": {},
   "outputs": [],
   "source": [
    "# Import necessary librairie for this purpose\n",
    "import pandas as pd\n",
    "import plotly.express as px\n",
    "import plotly.graph_objects as go\n",
    "import seaborn as sns\n",
    "import matplotlib.pyplot as plt\n",
    "from plotly.subplots import make_subplots \n"
   ]
  },
  {
   "cell_type": "code",
   "execution_count": 37,
   "metadata": {},
   "outputs": [],
   "source": [
    "# Import speed dating dataset\n",
    "\n",
    "df = pd.read_csv(\"src/Speed Dating Data.csv\")\n",
    "\n",
    "#This set_option is to display all columns in my notebook\n",
    "pd.set_option('display.max_columns', None)\n",
    "\n",
    "df.head()"
   ]
  },
  {
   "cell_type": "code",
   "execution_count": null,
   "metadata": {},
   "outputs": [],
   "source": []
  },
  {
   "cell_type": "markdown",
   "metadata": {},
   "source": [
    "## 1. Rapid visualisation of dataset"
   ]
  },
  {
   "cell_type": "code",
   "execution_count": 54,
   "metadata": {},
   "outputs": [],
   "source": [
    "# rapid statistic description of all type of columns of the dataset\n",
    "df.describe(include='all')"
   ]
  },
  {
   "cell_type": "markdown",
   "metadata": {},
   "source": [
    "#### We can observe from `describe` function's statistics  that a large majority of the columns of this dataset has a numerical type data. \n",
    "#### This can be seen from `unique`, `top` and `freq` lines that are arguments for string type data, they contain all `NaN` values. \n",
    "\n",
    "#### This means that we will need to change all necessary columns into string types for our analyses like in dataset description."
   ]
  },
  {
   "cell_type": "code",
   "execution_count": null,
   "metadata": {},
   "outputs": [],
   "source": []
  },
  {
   "cell_type": "markdown",
   "metadata": {},
   "source": [
    "## 2. Evaluating of missing values\n",
    "\n",
    "#### Before analysing this dataset, we need to evaluate missing values in each columns. "
   ]
  },
  {
   "cell_type": "code",
   "execution_count": 55,
   "metadata": {},
   "outputs": [],
   "source": [
    "# Compute mean value of missing values of each column\n",
    "# and sorted them by ascending order\n",
    "df_nan = df.isna().mean().sort_values()\n",
    "\n",
    "# Given that the futur plot of 'df_nan' will not display all column in x axis, \n",
    "# I print all indexes (columns of 'df') of 'df_nan' DataFrame to locate all not display column in the futur plot\n",
    "for i in range(len(df_nan)):\n",
    "    print(df_nan.index[i], end=',')"
   ]
  },
  {
   "cell_type": "code",
   "execution_count": 56,
   "metadata": {},
   "outputs": [],
   "source": [
    "# I use a Bar plot from plotly.express to plot the Rate of missing values for each column\n",
    "fig = px.bar(df_nan , labels = dict(index = \"name of variables\",value = \"Rate of missing values\"), width=1500, height=600)\n",
    "fig.layout.showlegend = False\n",
    "\n",
    "fig.show()"
   ]
  },
  {
   "cell_type": "markdown",
   "metadata": {},
   "source": [
    "#### We ca observe there are a lot of column that have missing values represent more than half of their data. \n",
    "#### To analyse this dataset we need to take into account only columns that the missing values don't exced more that half of their data"
   ]
  },
  {
   "cell_type": "code",
   "execution_count": null,
   "metadata": {},
   "outputs": [],
   "source": []
  },
  {
   "cell_type": "markdown",
   "metadata": {},
   "source": [
    "## 3. Dealing with categorial variables"
   ]
  },
  {
   "cell_type": "code",
   "execution_count": 41,
   "metadata": {},
   "outputs": [],
   "source": [
    "# Copy df dataframe in a different memory allocation\n",
    "df_copy = df.copy()\n",
    "\n",
    "\n",
    "# Dealing with categorial variables\n",
    "\n",
    "df_copy.gender = df_copy.gender.apply(lambda x : 'Female' if x==0 else 'Male')\n",
    "\n",
    "df_copy.condtn = df_copy.condtn.apply(lambda x : 'limited choice' if x==1 else 'extensive choice')\n",
    "\n",
    "df_copy.match = df_copy.match.apply(lambda x : 'yes' if x==1 else 'no')\n",
    "\n",
    "df_copy.dec = df_copy.dec.apply(lambda x : 'yes' if x==1 else 'no')\n",
    "\n",
    "df_copy.dec_o = df_copy.dec_o.apply(lambda x : 'yes' if x==1 else 'no')\n",
    "\n",
    "df_copy.samerace = df_copy.samerace.apply(lambda x : 'yes' if x==1 else 'no')\n",
    "\n",
    "df_copy.length = df_copy.length.apply(lambda x : 'Too little' if x==1 else 'Too much' if x==2 else 'Just Right')\n",
    "\n",
    "df_copy.numdat_2 = df_copy.numdat_2.apply(lambda x : 'Too few' if x==1 else 'Too many' if x==2 else 'Just Right')\n",
    "\n",
    "df_copy.income = df_copy['income'].apply(lambda x: float(((str(x).replace('.','')).replace(',','.')).replace(',','.')))\n",
    "\n",
    "df_copy.race_o = df_copy.race_o.apply(lambda x : 'Black/African American' if x==1 \n",
    "                                                else 'European/Caucasian-American' if x==2\n",
    "                                                else 'Latino/Hispanic American' if x==3\n",
    "                                                else 'Asian/Pacific Islander/Asian-American' if x==4\n",
    "                                                else 'Native American' if x==5\n",
    "                                                else 'Other')\n",
    "\n",
    "\n",
    "df_copy.race = df_copy.race.apply(lambda x : 'Black/African American' if x==1 \n",
    "                                                else 'European/Caucasian-American' if x==2\n",
    "                                                else 'Latino/Hispanic American' if x==3\n",
    "                                                else 'Asian/Pacific Islander/Asian-American' if x==4\n",
    "                                                else 'Native American' if x==5\n",
    "                                                else 'Other')\n",
    "\n",
    "\n",
    "df_copy.goal = df_copy.goal.apply(lambda x : 'Seemed like a fun night out' if x==1 \n",
    "                                                else 'To meet new people' if x==2\n",
    "                                                else 'To get a date' if x==3\n",
    "                                                else 'Looking for a serious relationship' if x==4\n",
    "                                                else 'To say I did it' if x==5\n",
    "                                                else 'Other')\n",
    "\n",
    "\n",
    "df_copy.date = df_copy.date.apply(lambda x : 'Several times a week' if x==1 \n",
    "                                                else 'Twice a week' if x==2\n",
    "                                                else 'Once a week' if x==3\n",
    "                                                else 'Twice a month' if x==4\n",
    "                                                else 'Once a month' if x==5\n",
    "                                                else 'Several times a year' if x==6\n",
    "                                                else 'Other')\n",
    "\n",
    "df_copy.go_out = df_copy.go_out.apply(lambda x : 'Several times a week' if x==1 \n",
    "                                                else 'Twice a week' if x==2\n",
    "                                                else 'Once a week' if x==3\n",
    "                                                else 'Twice a month' if x==4\n",
    "                                                else 'Once a month' if x==5\n",
    "                                                else 'Several times a year' if x==6\n",
    "                                                else 'Other')\n",
    "\n",
    "\n",
    "df_copy.field_cd = df_copy.field_cd.apply(lambda x : 'Law' if x==1 \n",
    "                                                else 'Math' if x==2\n",
    "                                                else 'Social Science, Psychologist ' if x==3\n",
    "                                                else 'Medical Science, Pharmaceuticals, and Bio Tech ' if x==4\n",
    "                                                else 'Engineering ' if x==5\n",
    "                                                else 'English/Creative Writing/ Journalism ' if x==6\n",
    "                                                else 'History/Religion/Philosophy ' if x==7\n",
    "                                                else 'Business/Econ/Finance ' if x==8\n",
    "                                                else 'Education, Academia ' if x==9\n",
    "                                                else 'Biological Sciences/Chemistry/Physics' if x==10\n",
    "                                                else 'Social Work ' if x==11\n",
    "                                                else 'Undergrad/undecided ' if x==12\n",
    "                                                else 'Political Science/International Affairs ' if x==13\n",
    "                                                else 'Film' if x==14\n",
    "                                                else 'Fine Arts/Arts Administration' if x==15\n",
    "                                                else 'Languages' if x==16\n",
    "                                                else 'Architecture' if x==17                                        \n",
    "                                                else 'Other')\n",
    "\n",
    "\n",
    "\n",
    "df_copy.career_c= df_copy.career_c.apply(lambda x : 'Lawer' if x==1 \n",
    "                                                else 'Academic/Research ' if x==2\n",
    "                                                else 'Psychologist ' if x==3\n",
    "                                                else 'Doctor/Medicine ' if x==4\n",
    "                                                else 'Engineer' if x==5\n",
    "                                                else 'Creative Arts/Entertainment ' if x==6\n",
    "                                                else 'Banking/Consulting/Finance/Marketing/Business/CEO/Entrepreneur/Admin ' if x==7\n",
    "                                                else 'Real Estate ' if x==8\n",
    "                                                else 'International/Humanitarian Affairs  ' if x==9\n",
    "                                                else 'Undecided' if x==10\n",
    "                                                else 'Social Work ' if x==11\n",
    "                                                else 'Speech Pathology ' if x==12\n",
    "                                                else 'Politics' if x==13\n",
    "                                                else 'Pro sports/Athletics' if x==14\n",
    "                                                else 'Other' if x==15\n",
    "                                                else 'Journalism' if x==16\n",
    "                                                else 'Architecture' )\n",
    "\n",
    "                                           "
   ]
  },
  {
   "cell_type": "code",
   "execution_count": null,
   "metadata": {},
   "outputs": [],
   "source": []
  },
  {
   "cell_type": "markdown",
   "metadata": {},
   "source": [
    "## 4. Some distributions analysis\n",
    "\n",
    "#### To do this, we will write a function that will return all distributions of a set of variables we choose"
   ]
  },
  {
   "cell_type": "code",
   "execution_count": 42,
   "metadata": {},
   "outputs": [],
   "source": [
    "import plotly.graph_objects as go\n",
    "from plotly.subplots import make_subplots\n",
    "\n",
    "def repartition_multi_plot(df, cols, titles, cat):\n",
    "    '''\n",
    "    This function returns all distributions of a set of chosen variables and display one of them \n",
    "    when we select it by clicking on a button.\n",
    "\n",
    "    Parameters:\n",
    "    df : pandas DataFrame\n",
    "        The DataFrame that we want to analyse distribution of its columns.\n",
    "    cols : list\n",
    "        Set of chosen columns.\n",
    "    titles : list\n",
    "        Correspondent titles of each column's distributions.\n",
    "    cat : str\n",
    "        Categorical variable on which we want to divide the DataFrame.\n",
    "\n",
    "    Returns:\n",
    "    None\n",
    "    '''\n",
    "    \n",
    "    # create figure\n",
    "    fig = make_subplots()\n",
    "\n",
    "    # Division of DataFrame 'df' in two categories cat1 and cat2\n",
    "    cat1, cat2 = df.groupby(cat)\n",
    "    \n",
    "    # For each column, add a new trace\n",
    "    for col in cols:\n",
    "        \n",
    "        # The first trace will be visible at the beginning\n",
    "        if col == cols[0]:\n",
    "\n",
    "            # add first trace for cat1\n",
    "            fig.add_trace(\n",
    "                go.Histogram(\n",
    "                    x = cat1[1][col],\n",
    "                    nbinsx = cat1[1][col].nunique(),\n",
    "                    name = cat1[0],\n",
    "                    marker_color='#EB89B5',\n",
    "                    visible = True\n",
    "                )\n",
    "            )\n",
    "\n",
    "            # add first trace for cat2\n",
    "            fig.add_trace(\n",
    "                go.Histogram(\n",
    "                    x = cat2[1][col],\n",
    "                    nbinsx = cat2[1][col].nunique(),\n",
    "                    name = cat2[0],\n",
    "                    marker_color='#330C73',\n",
    "                    visible = True\n",
    "                )\n",
    "            )\n",
    "        \n",
    "        # The next traces won't be visible at the beginning\n",
    "        else:\n",
    "\n",
    "            # add next traces for cat1\n",
    "            fig.add_trace(\n",
    "                go.Histogram(\n",
    "                    y = cat1[1][col],\n",
    "                    nbinsy = cat1[1][col].nunique(),\n",
    "                    name = cat1[0],\n",
    "                    marker_color='#EB89B5',\n",
    "                    visible = False\n",
    "                )\n",
    "            )\n",
    "\n",
    "            # add next traces for cat2\n",
    "            fig.add_trace(\n",
    "                go.Histogram(\n",
    "                    y = cat2[1][col],\n",
    "                    nbinsy = cat2[1][col].nunique(),\n",
    "                    name = cat2[0],\n",
    "                    marker_color='#330C73',\n",
    "                    visible = False\n",
    "                )\n",
    "            )\n",
    "\n",
    "    # Creation of function that customize our button\n",
    "    def create_layout_button(col, title):\n",
    "        '''\n",
    "        This function creates a layout dropdown button that allows us to select the title of each distribution.\n",
    "\n",
    "        Parameters:\n",
    "        col : str\n",
    "            The column selected.\n",
    "        title : str\n",
    "            Correspondent title of column's distribution.\n",
    "\n",
    "        Returns:\n",
    "        A dictionary representing the value of button argument in go.layout.Updatemenu().\n",
    "        '''\n",
    "        # Like with each column we have two plots, finally the number of plots will be two times the number of columns.\n",
    "\n",
    "        # Create an empty list that will contain column names grouped and repeated two by two. \n",
    "        # So we will have double_cols = [col_1, col_1, col_2, col2_, col_3, col_3 ..., col_n, col_n]\n",
    "        double_cols = []\n",
    "        for el1, el2 in zip(cols, cols):\n",
    "            double_cols.append(el1)\n",
    "            double_cols.append(el2)\n",
    "\n",
    "        # This function returns the value of button argument in go.layout.Updatemenu()\n",
    "        return dict(\n",
    "            label = title,\n",
    "            method = 'update',\n",
    "            args = [{'visible': [col_i == col for col_i in double_cols]}])\n",
    "\n",
    "    \n",
    "    # Update layout properties\n",
    "    fig.update_layout(\n",
    "        updatemenus=[go.layout.Updatemenu(\n",
    "            active = 0,\n",
    "            buttons = [create_layout_button(col, title) for col, title in zip(cols, titles)],\n",
    "            x = 0,\n",
    "            xanchor = 'left',\n",
    "            y = 1.2,\n",
    "            yanchor = 'top',\n",
    "            \n",
    "            )\n",
    "        ],\n",
    "        legend_title_text='Gender',\n",
    "        autosize = False,\n",
    "        width = 800,\n",
    "        height = 800)\n",
    "    \n",
    "    fig.show()\n"
   ]
  },
  {
   "cell_type": "code",
   "execution_count": 43,
   "metadata": {},
   "outputs": [],
   "source": [
    "# Selection of some columns to anylse their distribution\n",
    "repartition_cols = ['age',            \n",
    "            'race',\n",
    "            'date',\n",
    "            'goal',\n",
    "            'go_out',\n",
    "            'field_cd',\n",
    "            'career_c']\n",
    "\n",
    "\n",
    "\n",
    "# Correspondant title of selected columns\n",
    "repartition_titles = ['Age repartition',                       \n",
    "            'Race repartition',\n",
    "            'Date repartition',\n",
    "            'Goal repartition',\n",
    "            'Go out repartition',\n",
    "            'Study fields repartition', \n",
    "            'Careers repartition']\n",
    "\n",
    "\n",
    "arg = [df_copy, repartition_cols, repartition_titles, 'gender']\n",
    "repartition_multi_plot(*arg)"
   ]
  },
  {
   "cell_type": "code",
   "execution_count": null,
   "metadata": {},
   "outputs": [],
   "source": []
  },
  {
   "cell_type": "code",
   "execution_count": null,
   "metadata": {},
   "outputs": [],
   "source": []
  },
  {
   "cell_type": "markdown",
   "metadata": {},
   "source": [
    "### 4-1- Age repartition analysis"
   ]
  },
  {
   "cell_type": "code",
   "execution_count": 44,
   "metadata": {},
   "outputs": [],
   "source": [
    "display(df_copy[['gender', 'age']].groupby('gender').agg(['count', 'mean', 'median', 'min', 'max','std']))\n"
   ]
  },
  {
   "cell_type": "markdown",
   "metadata": {},
   "source": [
    "#### People who participated to this Speed Dating are essentially young people with  mean age is about 26 years old for both female and male. \n",
    "#### Most of people are aged between 23 and 29 years old. minimum age is 18 and maximum age is 55"
   ]
  },
  {
   "cell_type": "code",
   "execution_count": null,
   "metadata": {},
   "outputs": [],
   "source": []
  },
  {
   "cell_type": "markdown",
   "metadata": {},
   "source": [
    "## 4-2- Race repartition analysis"
   ]
  },
  {
   "cell_type": "code",
   "execution_count": 45,
   "metadata": {},
   "outputs": [],
   "source": [
    "female, male = df_copy.groupby('gender')\n",
    "\n",
    "race_ = pd.concat([female[1]['race'].describe(), male[1]['race'].describe()], ignore_index=True, axis= 1)\n",
    "\n",
    "race_.columns = ['female', 'male']\n",
    "race_"
   ]
  },
  {
   "cell_type": "markdown",
   "metadata": {},
   "source": [
    "#### For race repartition, we can observe that the majority of participant is `European/Caucasian-American`. \n",
    "#### They alone represent more than half (52%) of the participants followed by the `Asian/Pacific-Islander/Asian-American` group (25%).\n",
    "#### `Latino/Hispanic-American` and `Black/African-American` groups only represent respectively 7% and 5% of participants.\n",
    "#### The race repartition does not represent that of American population in view of the low proportion of minorities `Latino/Hispanic-American` and `Black/African-American`\n",
    "#### and also i view of the number of population of group `Asian/Pacific-Islander/Asian-American` which is largely overrepresented. \n",
    "#### Analysis with this repartition could be not reliable."
   ]
  },
  {
   "cell_type": "code",
   "execution_count": null,
   "metadata": {},
   "outputs": [],
   "source": []
  },
  {
   "cell_type": "markdown",
   "metadata": {},
   "source": [
    "### 4-3- Date repartition analysis"
   ]
  },
  {
   "cell_type": "code",
   "execution_count": 46,
   "metadata": {},
   "outputs": [],
   "source": [
    "female, male = df_copy.groupby('gender')\n",
    "\n",
    "date_ = pd.concat([female[1]['date'].describe(), male[1]['date'].describe()], ignore_index=True, axis= 1)\n",
    "\n",
    "date_.columns = ['female', 'male']\n",
    "date_"
   ]
  },
  {
   "cell_type": "markdown",
   "metadata": {},
   "source": [
    "#### We can observe that participants are people who get date with a variety of frequencies during year.\n",
    "#### But these frequencies are dominates by those who get date `Several times a year` for female and by `Twice a month` for male.\n",
    "#### So there is a strong representation of male who get a lot of date during a year."
   ]
  },
  {
   "cell_type": "code",
   "execution_count": null,
   "metadata": {},
   "outputs": [],
   "source": []
  },
  {
   "cell_type": "markdown",
   "metadata": {},
   "source": [
    "### 4-4- Goal repartition analysis"
   ]
  },
  {
   "cell_type": "code",
   "execution_count": 47,
   "metadata": {},
   "outputs": [],
   "source": [
    "female, male = df_copy.groupby('gender')\n",
    "\n",
    "goal_ = pd.concat([female[1]['goal'].describe(), male[1]['goal'].describe()], ignore_index=True, axis= 1)\n",
    "\n",
    "goal_.columns = ['female', 'male']\n",
    "goal_"
   ]
  },
  {
   "cell_type": "markdown",
   "metadata": {},
   "source": [
    "#### Populations in this dataset are strongly represented by people that their primary goal in participating in this event is to have fun"
   ]
  },
  {
   "cell_type": "code",
   "execution_count": null,
   "metadata": {},
   "outputs": [],
   "source": []
  },
  {
   "cell_type": "markdown",
   "metadata": {},
   "source": [
    "### 4-5- Other repartition analysis"
   ]
  },
  {
   "cell_type": "code",
   "execution_count": 48,
   "metadata": {},
   "outputs": [],
   "source": [
    "female, male = df_copy.groupby('gender')\n",
    "\n",
    "go_out_ = pd.concat([female[1]['go_out'].describe(), male[1]['go_out'].describe()], ignore_index=True, axis= 1)\n",
    "\n",
    "go_out_.columns = ['female', 'male']\n",
    "print('Go out frequency : \\n', go_out_, '\\n')\n",
    "\n",
    "\n",
    "\n",
    "field_ = pd.concat([female[1]['field_cd'].describe(), male[1]['field_cd'].describe()], ignore_index=True, axis= 1)\n",
    "\n",
    "field_.columns = ['female', 'male']\n",
    "print('Study field : \\n', field_, '\\n')\n",
    "\n",
    "\n",
    "\n",
    "\n",
    "career_ = pd.concat([female[1]['career_c'].describe(), male[1]['career_c'].describe()], ignore_index=True, axis= 1)\n",
    "\n",
    "career_.columns = ['female', 'male']\n",
    "print('Career : \\n', career_)"
   ]
  },
  {
   "cell_type": "markdown",
   "metadata": {},
   "source": [
    "#### Participants are represented majoritary by people who go out a lot (`Twice a week`) and by women who have studied academically and by men who have studied business, economy and finance.\n",
    "#### In this population, women have mostly pursued careers in academic research and men have mostly pursued careers in finance sector."
   ]
  },
  {
   "cell_type": "code",
   "execution_count": null,
   "metadata": {},
   "outputs": [],
   "source": []
  },
  {
   "cell_type": "markdown",
   "metadata": {},
   "source": [
    "## 5 -  Correlation between some attributes and decision"
   ]
  },
  {
   "cell_type": "code",
   "execution_count": 49,
   "metadata": {},
   "outputs": [],
   "source": [
    "df.income = df['income'].apply(lambda x: float(((str(x).replace('.','')).replace(',','.')).replace(',','.')))\n",
    "corr_columns = [\n",
    "'dec', 'attr', 'sinc', 'intel', 'fun', 'amb', 'shar', 'like', 'prob',\n",
    "'imprace', 'imprelig', 'age_o', 'race_o', 'samerace', 'income'\n",
    "]\n",
    "\n",
    "\n",
    "fig, ax = plt.subplots(figsize=(18,10)) \n",
    "sns.heatmap (df[corr_columns].corr(), annot=True, cmap = 'YlGnBu', linewidths=3, square=True, ax=ax)\n",
    "ax.set_title('Correlation between attributes and decision')"
   ]
  },
  {
   "cell_type": "markdown",
   "metadata": {},
   "source": [
    "#### We can observe that religion, race, age or income of partner don't have any importance on decision. \n",
    "#### But some partner attributes influence more or less decision. Let's study which of them."
   ]
  },
  {
   "cell_type": "code",
   "execution_count": null,
   "metadata": {},
   "outputs": [],
   "source": []
  },
  {
   "cell_type": "code",
   "execution_count": 50,
   "metadata": {},
   "outputs": [],
   "source": [
    "fig, axes = plt.subplots(figsize=(21, 24), nrows=3, ncols=3)\n",
    "\n",
    "# Study of attractiveness attribute influence on decision\n",
    "sns.boxplot(x='dec', y='attr', data=df_copy, hue='gender', ax=axes[0,0]).set(title='Attractiveness', xlabel='Decision', ylabel='Rate of attractiveness')\n",
    "\n",
    "# Study of sincerity attribute influence on decision\n",
    "sns.boxplot(x='dec', y='sinc', data=df_copy, hue='gender', ax=axes[0,1]).set(title='Sincerity', xlabel='Decision', ylabel='Rate of sincerity')\n",
    "\n",
    "# Study of Intelligence attribute influence on decision\n",
    "sns.boxplot(x='dec', y='intel', data=df_copy, hue='gender', ax=axes[0,2]).set(title='Intelligence', xlabel='Decision', ylabel='Rate of Intelligence')\n",
    "\n",
    "\n",
    "\n",
    "# Study of Fun attribute influence on decision\n",
    "sns.boxplot(x='dec', y='fun', data=df_copy, hue='gender', ax=axes[1,0]).set(title='Fun', xlabel='Decision', ylabel='Rate of Fun')\n",
    "\n",
    "# Study of Ambitious attribute influence on decision\n",
    "sns.boxplot(x='dec', y='amb', data=df_copy, hue='gender', ax=axes[1,1]).set(title='Ambition', xlabel='Decision', ylabel='Rate of Ambition')\n",
    "\n",
    "# Study of Shared Interest attribute influence on decision\n",
    "sns.boxplot(x='dec', y='shar', data=df_copy, hue='gender', ax=axes[1,2]).set(title='Shared Interest', xlabel='Decision', ylabel='Rate of Shared Interest')\n",
    "\n",
    "\n",
    "\n",
    "# Study of Like partner attribute influence on decision\n",
    "sns.boxplot(x='dec', y='like', data=df_copy, hue='gender', ax=axes[2,0]).set(title='Like partner', xlabel='Decision', ylabel='Rate of Like partner')\n",
    "\n",
    "# Study of Yes probability attribute influence on decision\n",
    "sns.boxplot(x='dec', y='prob', data=df_copy, hue='gender', ax=axes[2,1]).set(title='Yes probability', xlabel='Decision', ylabel='Rate of Yes probability')\n",
    "\n",
    "# Study of Importance of race attribute influence on decision\n",
    "sns.boxplot(x='dec', y='imprace', data=df_copy, hue='gender', ax=axes[2,2]).set(title='Importance of race', xlabel='Decision', ylabel='Rate of Importance of race')\n",
    "\n",
    "plt.suptitle('Importance of partner attributes on the decision', fontsize=32)\n",
    "plt.show()"
   ]
  },
  {
   "cell_type": "markdown",
   "metadata": {},
   "source": [
    "#### We can observe that when the decision is `Yes`, for male the least important attribute is `share interest`. \n",
    "#### This is not the case for women. However when decision is `Yes` for women the most important attributes are `sincerity` and `intelligence` \n",
    "#### Generally when they like partner they say to have a second date with him. And generally their prediction of having a second date turns out to be correct. \n",
    "#### Not surprisingly race does not have great importance in decision.\n",
    "\n",
    "#### For next we will study the reel impact of what people look for in the opposite sex on the decision"
   ]
  },
  {
   "cell_type": "code",
   "execution_count": null,
   "metadata": {},
   "outputs": [],
   "source": []
  },
  {
   "cell_type": "code",
   "execution_count": null,
   "metadata": {},
   "outputs": [],
   "source": []
  },
  {
   "cell_type": "markdown",
   "metadata": {},
   "source": [
    "#### Like `waves` don't have the same preference scale we have to normalize all rates."
   ]
  },
  {
   "cell_type": "code",
   "execution_count": 51,
   "metadata": {},
   "outputs": [],
   "source": [
    "# Selection of attribute of what people look for in the opposite sex\n",
    "attr1 = ['attr1_1', 'sinc1_1', 'intel1_1', 'fun1_1', 'amb1_1', 'shar1_1']\n",
    "\n",
    "# Copy df_copy dataframe in a different memory allocation\n",
    "df_copy_attr1 = df_copy.copy()\n",
    "\n",
    "for col in attr1:\n",
    "    # max value of each column\n",
    "    max_col = df_copy_attr1[col].max()\n",
    "    # fill nan value by 0 and divide each column value by the max value\n",
    "    df_copy_attr1[col] = df_copy_attr1[col].fillna(0).apply(lambda x : x/max_col)"
   ]
  },
  {
   "cell_type": "code",
   "execution_count": null,
   "metadata": {},
   "outputs": [],
   "source": []
  },
  {
   "cell_type": "code",
   "execution_count": null,
   "metadata": {},
   "outputs": [],
   "source": []
  },
  {
   "cell_type": "code",
   "execution_count": 52,
   "metadata": {},
   "outputs": [],
   "source": [
    "fig, axes = plt.subplots(figsize=(21, 16), nrows=2, ncols=3)\n",
    "\n",
    "# Study of attractiveness attribute influence on decision\n",
    "sns.violinplot(x='dec', y='attr1_1', data=df_copy_attr1, hue='gender', ax=axes[0,0]).set(title='Attractiveness', xlabel='Decision', ylabel='Normalized rate of attractiveness')\n",
    "\n",
    "# Study of sincerity attribute influence on decision\n",
    "sns.violinplot(x='dec', y='sinc1_1', data=df_copy_attr1, hue='gender', ax=axes[0,1]).set(title='Sincerity', xlabel='Decision', ylabel='Normalized rate of sincerity')\n",
    "\n",
    "# Study of Intelligence attribute influence on decision\n",
    "sns.violinplot(x='dec', y='intel1_1', data=df_copy_attr1, hue='gender', ax=axes[0,2]).set(title='Intelligence', xlabel='Decision', ylabel='Normalized rate of Intelligence')\n",
    "\n",
    "\n",
    "\n",
    "# Study of Fun attribute influence on decision\n",
    "sns.violinplot(x='dec', y='fun1_1', data=df_copy_attr1, hue='gender', ax=axes[1,0]).set(title='Fun', xlabel='Decision', ylabel='Normalized rate of Fun')\n",
    "\n",
    "# Study of Ambitious attribute influence on decision\n",
    "sns.violinplot(x='dec', y='amb1_1', data=df_copy_attr1, hue='gender', ax=axes[1,1]).set(title='Ambition', xlabel='Decision', ylabel='Normalized rate of Ambition')\n",
    "\n",
    "# Study of Shared Interest attribute influence on decision\n",
    "sns.violinplot(x='dec', y='shar1_1', data=df_copy_attr1, hue='gender', ax=axes[1,2]).set(title='Shared Interest', xlabel='Decision', ylabel='Normalized rate of Shared Interest')\n",
    "\n",
    "\n",
    "plt.suptitle('Importance of \\'what people look for in the opposite sex\\' attributes on the decision', fontsize=25)\n",
    "plt.show()"
   ]
  },
  {
   "cell_type": "markdown",
   "metadata": {},
   "source": [
    "#### This plot show that what people less look for in the opposite sex are `attractiveness` and `ambition`. \n",
    "#### This differs from what actually drove them to make the `Yes`decision. In this case `attractiveness` and `ambition` attributes had quite a good score.\n",
    "#### We can also observe that what people more look for in the opposite sex is `share interest` what is really the case.\n",
    "\n",
    "#### `We can conclude that it is very difficult for people to accurately predict their own perceived value in the dating market.` "
   ]
  },
  {
   "cell_type": "code",
   "execution_count": null,
   "metadata": {},
   "outputs": [],
   "source": []
  },
  {
   "cell_type": "code",
   "execution_count": null,
   "metadata": {},
   "outputs": [],
   "source": []
  },
  {
   "cell_type": "markdown",
   "metadata": {},
   "source": [
    "## 6 - Study of mean decision with respect of \\'speed date\\' order of the night"
   ]
  },
  {
   "cell_type": "code",
   "execution_count": 53,
   "metadata": {},
   "outputs": [],
   "source": [
    "fig, axes = plt.subplots(ncols=2, figsize=(12,5))\n",
    "\n",
    "sns.lineplot(x=\"order\", y=\"dec\", hue=\"gender\", data=df_copy,ax=axes[0]).set(title='Decision mean with respect of \\'speed date\\' order of the night\\n')\n",
    "sns.lineplot(x=\"order\", y=\"dec\", hue=\"gender\", data=df_copy,ax=axes[1]).set(title='Same plot zoomed \\n')\n",
    "\n",
    "axes[0].set_yticks(ticks=[df_copy[\"dec\"].unique()[0], df_copy[\"dec\"].unique()[1]])\n",
    "\n",
    "plt.show()"
   ]
  },
  {
   "cell_type": "markdown",
   "metadata": {},
   "source": [
    "#### Generally we observe that `Yes` decicion decrease during the night. \n",
    "#### However women tend to be pickier than men as the evening progresses.\n",
    "#### `So in terms of getting a second date, is it better to be someone's first speed date of the night.`\n"
   ]
  },
  {
   "cell_type": "markdown",
   "metadata": {},
   "source": []
  }
 ],
 "metadata": {
  "kernelspec": {
   "display_name": "Python 3 (ipykernel)",
   "language": "python",
   "name": "python3"
  },
  "language_info": {
   "codemirror_mode": {
    "name": "ipython",
    "version": 3
   },
   "file_extension": ".py",
   "mimetype": "text/x-python",
   "name": "python",
   "nbconvert_exporter": "python",
   "pygments_lexer": "ipython3",
   "version": "3.10.8"
  },
  "vscode": {
   "interpreter": {
    "hash": "b0fa6594d8f4cbf19f97940f81e996739fb7646882a419484c72d19e05852a7e"
   }
  }
 },
 "nbformat": 4,
 "nbformat_minor": 2
}
